{
 "cells": [
  {
   "cell_type": "code",
   "execution_count": 1,
   "id": "34d7b21e-ccea-4e88-b0cd-7724d66632d1",
   "metadata": {},
   "outputs": [],
   "source": [
    "%matplotlib inline\n",
    "%load_ext autoreload\n",
    "%autoreload 2\n",
    "%config InlineBackend.figure_format = 'retina'"
   ]
  },
  {
   "cell_type": "markdown",
   "id": "93d83a8f-7401-4e3b-9735-70da39ab620c",
   "metadata": {},
   "source": [
    "# Experiment Utilities via `MLExperiment`"
   ]
  },
  {
   "cell_type": "code",
   "execution_count": 2,
   "id": "67fda5ac-3c4b-417c-9ac7-1aa3946f6001",
   "metadata": {},
   "outputs": [],
   "source": [
    "from mle_toolbox import MLExperiment"
   ]
  },
  {
   "cell_type": "code",
   "execution_count": 3,
   "id": "f40eccde-63d0-4d2f-8904-30d93c1542e0",
   "metadata": {},
   "outputs": [
    {
     "name": "stdout",
     "output_type": "stream",
     "text": [
      "==============  configs/abc.json DOESN'T EXIST - USING DEFAULT INSTEAD  =============\n",
      "DotMap(seed_id=0, lrate=0.01)\n",
      "<mle_logging.mle_logger.MLELogger object at 0x7f866413d8b0>\n"
     ]
    }
   ],
   "source": [
    "def run(mle, a):\n",
    "    print(mle.train_config)\n",
    "    print(mle.log)\n",
    "\n",
    "mle = MLExperiment(\"configs/abc.json\", train_config={\"lrate\": 0.01})\n",
    "run(mle, a=2)"
   ]
  },
  {
   "cell_type": "markdown",
   "id": "1d13945e-e3a5-4ce4-bb2b-bf7811e7d1a1",
   "metadata": {},
   "source": [
    "# Experiment Utilities via `@experiment()`"
   ]
  },
  {
   "cell_type": "code",
   "execution_count": 4,
   "id": "bb7655ae-b6ca-4359-8f99-da2d3b4a222c",
   "metadata": {},
   "outputs": [],
   "source": [
    "from mle_toolbox import experiment"
   ]
  },
  {
   "cell_type": "code",
   "execution_count": 5,
   "id": "e247070d-efb8-4ef5-8240-e08bff52f993",
   "metadata": {},
   "outputs": [
    {
     "name": "stdout",
     "output_type": "stream",
     "text": [
      "==============  configs/abc.json DOESN'T EXIST - USING DEFAULT INSTEAD  =============\n",
      "DotMap(num_layers=2)\n",
      "<mle_logging.mle_logger.MLELogger object at 0x7f86613c9460>\n"
     ]
    }
   ],
   "source": [
    "@experiment(\"configs/abc.json\", model_config={\"num_layers\": 2})\n",
    "def run(mle, a):\n",
    "    print(mle.model_config)\n",
    "    print(mle.log)\n",
    "    print(a)\n",
    "    \n",
    "run(a=2)"
   ]
  },
  {
   "cell_type": "markdown",
   "id": "8372a1bc-6813-4ada-aca1-e29b5fdd5fc8",
   "metadata": {},
   "source": [
    "# Extending the logged statistics\n",
    "\n",
    "If you do not provide a `log_config` either in you configuration file or as a separate input to the `@experiment` decorator, the experiment will be generated with a default set of strings to log: `what_to_track=['loss']` and `time_to_track=['num_updates']`. But you can add further statistic variables to track as follows (only before first log update!):"
   ]
  },
  {
   "cell_type": "code",
   "execution_count": 10,
   "id": "0a54b89a-744a-4d2b-9090-a837986de467",
   "metadata": {},
   "outputs": [
    {
     "name": "stdout",
     "output_type": "stream",
     "text": [
      "==============  configs/abc.json DOESN'T EXIST - USING DEFAULT INSTEAD  =============\n"
     ]
    },
    {
     "data": {
      "text/html": [
       "<pre style=\"white-space:pre;overflow-x:auto;line-height:normal;font-family:Menlo,'DejaVu Sans Mono',consolas,'Courier New',monospace\"><span style=\"color: #c0c0c0; text-decoration-color: #c0c0c0; background-color: #000080\">╭──────────────────────────────────────────────────────────────────────────────╮</span>\n",
       "<span style=\"color: #c0c0c0; text-decoration-color: #c0c0c0; background-color: #000080\">│  __    __  __      ______  __      ______  ______          18/09/21 13:20:01 │</span>\n",
       "<span style=\"color: #c0c0c0; text-decoration-color: #c0c0c0; background-color: #000080\">│ /\\ \"-./  \\/\\ \\    /\\  ___\\/\\ \\    /\\  __ \\/\\  ___\\          Logger v0.0.3 🔏 │</span>\n",
       "<span style=\"color: #c0c0c0; text-decoration-color: #c0c0c0; background-color: #000080\">│ \\ \\ \\-./\\ \\ \\ \\___\\ \\  __\\  \\ \\___\\ \\ \\/\\ \\ \\ \\__ \\         </span><a href=\"https://twitter.com/RobertTLange\"><span style=\"color: #c0c0c0; text-decoration-color: #c0c0c0; background-color: #000080\">@RobertTLange</span></a><span style=\"color: #c0c0c0; text-decoration-color: #c0c0c0; background-color: #000080\"> 🐦 │</span>\n",
       "<span style=\"color: #c0c0c0; text-decoration-color: #c0c0c0; background-color: #000080\">│  \\ \\_\\ \\ \\_\\ \\_____\\ \\_____\\ \\_____\\ \\_____\\ \\_____\\         </span><a href=\"https://github.com/RobertTLange/mle-logging/blob/main/examples/getting_started.ipynb\"><span style=\"color: #c0c0c0; text-decoration-color: #c0c0c0; background-color: #000080\">MLE-Log Docs</span></a><span style=\"color: #c0c0c0; text-decoration-color: #c0c0c0; background-color: #000080\"> </span><span style=\"color: #c0c0c0; text-decoration-color: #c0c0c0; background-color: #000080\">📓</span><span style=\"color: #c0c0c0; text-decoration-color: #c0c0c0; background-color: #000080\"> │</span>\n",
       "<span style=\"color: #c0c0c0; text-decoration-color: #c0c0c0; background-color: #000080\">│   \\/_/  \\/_/\\/_____/\\/_____/\\/_____/\\/_____/\\/_____/         </span><a href=\"https://github.com/RobertTLange/mle-logging/\"><span style=\"color: #c0c0c0; text-decoration-color: #c0c0c0; background-color: #000080\">MLE-Log Repo</span></a><span style=\"color: #c0c0c0; text-decoration-color: #c0c0c0; background-color: #000080\"> </span><span style=\"color: #c0c0c0; text-decoration-color: #c0c0c0; background-color: #000080\">📝</span><span style=\"color: #c0c0c0; text-decoration-color: #c0c0c0; background-color: #000080\"> │</span>\n",
       "<span style=\"color: #c0c0c0; text-decoration-color: #c0c0c0; background-color: #000080\">╰──────────────────────────────────────────────────────────────────────────────╯</span>\n",
       "</pre>\n"
      ],
      "text/plain": [
       "<rich.jupyter.JupyterRenderable at 0x7f8661340ca0>"
      ]
     },
     "metadata": {},
     "output_type": "display_data"
    },
    {
     "data": {
      "text/html": [
       "<pre style=\"white-space:pre;overflow-x:auto;line-height:normal;font-family:Menlo,'DejaVu Sans Mono',consolas,'Courier New',monospace\">╭──────────────────────────────────────────────────────────────────────────────╮\n",
       "│ ╭─────────────────────────────────╮╭───────────────────────────────────────╮ │\n",
       "│ │ <span style=\"font-weight: bold\">📖 Log Dir</span>: experiments/        ││ <span style=\"font-weight: bold\">📄 Config</span>: config-not-provided        │ │\n",
       "│ ╰─────────────────────────────────╯╰───────────────────────────────────────╯ │\n",
       "│ ╭─────────────────────────────────╮╭───────────────────────────────────────╮ │\n",
       "│ │ <span style=\"font-weight: bold\">⌚ Time</span>: num_updates            ││ <span style=\"font-weight: bold\">📉 Stats</span>: loss                        │ │\n",
       "│ ╰─────────────────────────────────╯╰───────────────────────────────────────╯ │\n",
       "│ ╭─────────────────────────────────╮╭───────────────────────────────────────╮ │\n",
       "│ │ <span style=\"font-weight: bold\">🌱 Seed ID</span>: 0                   ││ <span style=\"font-weight: bold\">🚀 Model</span>: no-model-type               │ │\n",
       "│ ╰─────────────────────────────────╯╰───────────────────────────────────────╯ │\n",
       "╰──────────────────────────────────────────────────────────────────────────────╯\n",
       "</pre>\n"
      ],
      "text/plain": [
       "<rich.jupyter.JupyterRenderable at 0x7f8660c32a00>"
      ]
     },
     "metadata": {},
     "output_type": "display_data"
    },
    {
     "name": "stdout",
     "output_type": "stream",
     "text": [
      "['time', 'num_updates', 'time_elapsed']\n",
      "['loss']\n",
      "['loss', 'meta_loss', 'ep_return']\n"
     ]
    },
    {
     "data": {
      "text/html": [
       "<pre style=\"white-space:pre;overflow-x:auto;line-height:normal;font-family:Menlo,'DejaVu Sans Mono',consolas,'Courier New',monospace\"><span style=\"color: #c0c0c0; text-decoration-color: #c0c0c0\">                                                                                </span>\n",
       "<span style=\"color: #c0c0c0; text-decoration-color: #c0c0c0\"> </span><span style=\"font-weight: bold\"> ⌚ </span><span style=\"color: #800000; text-decoration-color: #800000; font-weight: bold\">time</span><span style=\"font-weight: bold\">        </span><span style=\"color: #c0c0c0; text-decoration-color: #c0c0c0\"> </span><span style=\"font-weight: bold\"> </span><span style=\"color: #800000; text-decoration-color: #800000; font-weight: bold\">num_updates</span><span style=\"font-weight: bold\">  </span><span style=\"color: #c0c0c0; text-decoration-color: #c0c0c0\"> </span><span style=\"font-weight: bold\">    📉 </span><span style=\"color: #000080; text-decoration-color: #000080; font-weight: bold\">loss</span><span style=\"font-weight: bold\">     </span><span style=\"color: #c0c0c0; text-decoration-color: #c0c0c0\"> </span><span style=\"font-weight: bold\">  </span><span style=\"color: #000080; text-decoration-color: #000080; font-weight: bold\">meta_loss</span><span style=\"font-weight: bold\">   </span><span style=\"color: #c0c0c0; text-decoration-color: #c0c0c0\"> </span><span style=\"font-weight: bold\">  </span><span style=\"color: #000080; text-decoration-color: #000080; font-weight: bold\">ep_return</span><span style=\"font-weight: bold\">   </span><span style=\"color: #c0c0c0; text-decoration-color: #c0c0c0\"> </span>\n",
       "<span style=\"color: #c0c0c0; text-decoration-color: #c0c0c0\"> ────────────────────────────────────────────────────────────────────────────── </span>\n",
       "<span style=\"color: #c0c0c0; text-decoration-color: #c0c0c0\"> </span><span style=\"color: #800000; text-decoration-color: #800000\"> 21-09-18/13:20 </span><span style=\"color: #c0c0c0; text-decoration-color: #c0c0c0\"> </span><span style=\"color: #800000; text-decoration-color: #800000\">      10      </span><span style=\"color: #c0c0c0; text-decoration-color: #c0c0c0\"> </span>      0.1       <span style=\"color: #c0c0c0; text-decoration-color: #c0c0c0\"> </span>    0.234     <span style=\"color: #c0c0c0; text-decoration-color: #c0c0c0\"> </span>     10.0     <span style=\"color: #c0c0c0; text-decoration-color: #c0c0c0\"> </span>\n",
       "<span style=\"color: #c0c0c0; text-decoration-color: #c0c0c0\">                                                                                </span>\n",
       "</pre>\n"
      ],
      "text/plain": [
       "<rich.jupyter.JupyterRenderable at 0x7f866424e790>"
      ]
     },
     "metadata": {},
     "output_type": "display_data"
    }
   ],
   "source": [
    "@experiment(\"configs/abc.json\", log_config={\"verbose\": True})\n",
    "def run(mle, a):\n",
    "    print(mle.log.stats_log.time_to_track)\n",
    "    print(mle.log.stats_log.what_to_track)\n",
    "    mle.log.extend_tracking([\"meta_loss\", \"ep_return\"])\n",
    "    print(mle.log.stats_log.what_to_track)\n",
    "    mle.log.update({\"num_updates\": 10},\n",
    "                   {\"loss\": 0.1, \"meta_loss\": 0.234, \"ep_return\": 10})\n",
    "run(a=2)"
   ]
  },
  {
   "cell_type": "code",
   "execution_count": null,
   "id": "cc2c6c75-efe2-438b-acf1-ba6003f494d3",
   "metadata": {},
   "outputs": [],
   "source": []
  }
 ],
 "metadata": {
  "kernelspec": {
   "display_name": "Python3 (mle-toolbox)",
   "language": "python",
   "name": "mle-toolbox"
  },
  "language_info": {
   "codemirror_mode": {
    "name": "ipython",
    "version": 3
   },
   "file_extension": ".py",
   "mimetype": "text/x-python",
   "name": "python",
   "nbconvert_exporter": "python",
   "pygments_lexer": "ipython3",
   "version": "3.9.6"
  }
 },
 "nbformat": 4,
 "nbformat_minor": 5
}
