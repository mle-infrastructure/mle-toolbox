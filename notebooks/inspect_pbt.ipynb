{
 "cells": [
  {
   "cell_type": "code",
   "execution_count": 3,
   "metadata": {},
   "outputs": [
    {
     "name": "stdout",
     "output_type": "stream",
     "text": [
      "The autoreload extension is already loaded. To reload it, use:\n",
      "  %reload_ext autoreload\n"
     ]
    }
   ],
   "source": [
    "%matplotlib inline\n",
    "%load_ext autoreload\n",
    "%autoreload 2\n",
    "%config InlineBackend.figure_format = 'retina'"
   ]
  },
  {
   "cell_type": "code",
   "execution_count": 95,
   "metadata": {},
   "outputs": [],
   "source": [
    "pbt_log_path = \"../examples/experiments/pbt_mnist/pbt_log.pkl\"\n",
    "from mle_toolbox.utils import load_pkl_object\n",
    "pbt_log = load_pkl_object(pbt_log_path)"
   ]
  },
  {
   "cell_type": "code",
   "execution_count": 96,
   "metadata": {},
   "outputs": [
    {
     "data": {
      "text/plain": [
       "(40, 7)"
      ]
     },
     "execution_count": 96,
     "metadata": {},
     "output_type": "execute_result"
    }
   ],
   "source": [
    "pbt_log = pbt_log.sort_values([\"pbt_step_id\", \"worker_id\"])\n",
    "pbt_log.shape"
   ]
  },
  {
   "cell_type": "code",
   "execution_count": 97,
   "metadata": {},
   "outputs": [
    {
     "data": {
      "text/plain": [
       "pandas.core.frame.DataFrame"
      ]
     },
     "execution_count": 97,
     "metadata": {},
     "output_type": "execute_result"
    }
   ],
   "source": [
    "type(pbt_log)"
   ]
  },
  {
   "cell_type": "code",
   "execution_count": 99,
   "metadata": {},
   "outputs": [
    {
     "data": {
      "text/html": [
       "<div>\n",
       "<style scoped>\n",
       "    .dataframe tbody tr th:only-of-type {\n",
       "        vertical-align: middle;\n",
       "    }\n",
       "\n",
       "    .dataframe tbody tr th {\n",
       "        vertical-align: top;\n",
       "    }\n",
       "\n",
       "    .dataframe thead th {\n",
       "        text-align: right;\n",
       "    }\n",
       "</style>\n",
       "<table border=\"1\" class=\"dataframe\">\n",
       "  <thead>\n",
       "    <tr style=\"text-align: right;\">\n",
       "      <th></th>\n",
       "      <th>hyperparams</th>\n",
       "      <th>log_path</th>\n",
       "      <th>model_ckpt</th>\n",
       "      <th>num_updates</th>\n",
       "      <th>pbt_step_id</th>\n",
       "      <th>test_loss</th>\n",
       "      <th>worker_id</th>\n",
       "    </tr>\n",
       "  </thead>\n",
       "  <tbody>\n",
       "    <tr>\n",
       "      <th>4</th>\n",
       "      <td>{'l_rate': 0.00495475760853168}</td>\n",
       "      <td>experiments/pbt_mnist/21-06-28_worker_0_step_0...</td>\n",
       "      <td>experiments/pbt_mnist/21-06-28_worker_0_step_0...</td>\n",
       "      <td>500.0</td>\n",
       "      <td>0.0</td>\n",
       "      <td>0.189422</td>\n",
       "      <td>0.0</td>\n",
       "    </tr>\n",
       "    <tr>\n",
       "      <th>14</th>\n",
       "      <td>{'l_rate': 0.00495475760853168}</td>\n",
       "      <td>experiments/pbt_mnist/21-06-28_worker_0_step_1...</td>\n",
       "      <td>experiments/pbt_mnist/21-06-28_worker_0_step_1...</td>\n",
       "      <td>500.0</td>\n",
       "      <td>1.0</td>\n",
       "      <td>0.157088</td>\n",
       "      <td>0.0</td>\n",
       "    </tr>\n",
       "    <tr>\n",
       "      <th>24</th>\n",
       "      <td>{'l_rate': 0.00495475760853168}</td>\n",
       "      <td>experiments/pbt_mnist/21-06-28_worker_0_step_2...</td>\n",
       "      <td>experiments/pbt_mnist/21-06-28_worker_0_step_2...</td>\n",
       "      <td>500.0</td>\n",
       "      <td>2.0</td>\n",
       "      <td>0.187764</td>\n",
       "      <td>0.0</td>\n",
       "    </tr>\n",
       "    <tr>\n",
       "      <th>36</th>\n",
       "      <td>{'l_rate': 0.00495475760853168}</td>\n",
       "      <td>experiments/pbt_mnist/21-06-28_worker_0_step_3...</td>\n",
       "      <td>experiments/pbt_mnist/21-06-28_worker_0_step_3...</td>\n",
       "      <td>500.0</td>\n",
       "      <td>3.0</td>\n",
       "      <td>0.166212</td>\n",
       "      <td>0.0</td>\n",
       "    </tr>\n",
       "  </tbody>\n",
       "</table>\n",
       "</div>"
      ],
      "text/plain": [
       "                        hyperparams                                           log_path                                         model_ckpt  num_updates  pbt_step_id  test_loss  worker_id\n",
       "4   {'l_rate': 0.00495475760853168}  experiments/pbt_mnist/21-06-28_worker_0_step_0...  experiments/pbt_mnist/21-06-28_worker_0_step_0...        500.0          0.0   0.189422        0.0\n",
       "14  {'l_rate': 0.00495475760853168}  experiments/pbt_mnist/21-06-28_worker_0_step_1...  experiments/pbt_mnist/21-06-28_worker_0_step_1...        500.0          1.0   0.157088        0.0\n",
       "24  {'l_rate': 0.00495475760853168}  experiments/pbt_mnist/21-06-28_worker_0_step_2...  experiments/pbt_mnist/21-06-28_worker_0_step_2...        500.0          2.0   0.187764        0.0\n",
       "36  {'l_rate': 0.00495475760853168}  experiments/pbt_mnist/21-06-28_worker_0_step_3...  experiments/pbt_mnist/21-06-28_worker_0_step_3...        500.0          3.0   0.166212        0.0"
      ]
     },
     "execution_count": 99,
     "metadata": {},
     "output_type": "execute_result"
    }
   ],
   "source": [
    "pbt_log[pbt_log[\"worker_id\"] == 0]"
   ]
  },
  {
   "cell_type": "code",
   "execution_count": null,
   "metadata": {},
   "outputs": [],
   "source": []
  }
 ],
 "metadata": {
  "kernelspec": {
   "display_name": "Python3 (ma-vision)",
   "language": "python",
   "name": "ma-vision"
  },
  "language_info": {
   "codemirror_mode": {
    "name": "ipython",
    "version": 3
   },
   "file_extension": ".py",
   "mimetype": "text/x-python",
   "name": "python",
   "nbconvert_exporter": "python",
   "pygments_lexer": "ipython3",
   "version": "3.6.9"
  }
 },
 "nbformat": 4,
 "nbformat_minor": 4
}
