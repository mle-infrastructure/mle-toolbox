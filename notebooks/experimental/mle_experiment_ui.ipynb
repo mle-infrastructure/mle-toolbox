{
 "cells": [
  {
   "cell_type": "code",
   "execution_count": 1,
   "id": "34d7b21e-ccea-4e88-b0cd-7724d66632d1",
   "metadata": {},
   "outputs": [],
   "source": [
    "%matplotlib inline\n",
    "%load_ext autoreload\n",
    "%autoreload 2\n",
    "%config InlineBackend.figure_format = 'retina'"
   ]
  },
  {
   "cell_type": "markdown",
   "id": "93d83a8f-7401-4e3b-9735-70da39ab620c",
   "metadata": {},
   "source": [
    "# Experiment Utilities via `MLExperiment`"
   ]
  },
  {
   "cell_type": "code",
   "execution_count": 2,
   "id": "67fda5ac-3c4b-417c-9ac7-1aa3946f6001",
   "metadata": {},
   "outputs": [],
   "source": [
    "from mle_toolbox import MLExperiment"
   ]
  },
  {
   "cell_type": "code",
   "execution_count": 3,
   "id": "f40eccde-63d0-4d2f-8904-30d93c1542e0",
   "metadata": {},
   "outputs": [
    {
     "name": "stdout",
     "output_type": "stream",
     "text": [
      "==============  configs/abc.json DOESN'T EXIST - USING DEFAULT INSTEAD  =============\n",
      "DotMap(seed_id=0, lrate=0.01)\n",
      "<mle_logging.mle_logger.MLELogger object at 0x7f9f50403460>\n"
     ]
    }
   ],
   "source": [
    "def run(mle, a):\n",
    "    print(mle.train_config)\n",
    "    print(mle.log)\n",
    "\n",
    "mle = MLExperiment(\"configs/abc.json\", train_config={\"lrate\": 0.01})\n",
    "run(mle, a=2)"
   ]
  },
  {
   "cell_type": "markdown",
   "id": "1d13945e-e3a5-4ce4-bb2b-bf7811e7d1a1",
   "metadata": {},
   "source": [
    "# Experiment Utilities via `@experiment()`"
   ]
  },
  {
   "cell_type": "code",
   "execution_count": 4,
   "id": "bb7655ae-b6ca-4359-8f99-da2d3b4a222c",
   "metadata": {},
   "outputs": [],
   "source": [
    "from mle_toolbox import experiment"
   ]
  },
  {
   "cell_type": "code",
   "execution_count": 5,
   "id": "e247070d-efb8-4ef5-8240-e08bff52f993",
   "metadata": {},
   "outputs": [
    {
     "name": "stdout",
     "output_type": "stream",
     "text": [
      "==============  configs/abc.json DOESN'T EXIST - USING DEFAULT INSTEAD  =============\n",
      "DotMap(num_layers=2)\n",
      "<mle_logging.mle_logger.MLELogger object at 0x7f9f746baeb0>\n",
      "2\n"
     ]
    }
   ],
   "source": [
    "@experiment(\"configs/abc.json\", model_config={\"num_layers\": 2})\n",
    "def run(mle, a):\n",
    "    print(mle.model_config)\n",
    "    print(mle.log)\n",
    "    print(a)\n",
    "    \n",
    "run(a=2)"
   ]
  },
  {
   "cell_type": "markdown",
   "id": "8372a1bc-6813-4ada-aca1-e29b5fdd5fc8",
   "metadata": {},
   "source": [
    "# Extending the logged statistics\n",
    "\n",
    "If you do not provide a `log_config` either in you configuration file or as a separate input to the `@experiment` decorator, the experiment will be generated with a default set of strings to log: `what_to_track=['loss']` and `time_to_track=['num_updates']`. But you can add further statistic variables to track as follows (only before first log update!):"
   ]
  },
  {
   "cell_type": "code",
   "execution_count": 6,
   "id": "0a54b89a-744a-4d2b-9090-a837986de467",
   "metadata": {},
   "outputs": [
    {
     "name": "stdout",
     "output_type": "stream",
     "text": [
      "==============  configs/abc.json DOESN'T EXIST - USING DEFAULT INSTEAD  =============\n"
     ]
    },
    {
     "data": {
      "text/html": [
       "<pre style=\"white-space:pre;overflow-x:auto;line-height:normal;font-family:Menlo,'DejaVu Sans Mono',consolas,'Courier New',monospace\"><span style=\"color: #c0c0c0; text-decoration-color: #c0c0c0; background-color: #000080\">╭──────────────────────────────────────────────────────────────────────────────╮</span>\n",
       "<span style=\"color: #c0c0c0; text-decoration-color: #c0c0c0; background-color: #000080\">│  __    __  __      ______  __      ______  ______          18/09/21 13:55:32 │</span>\n",
       "<span style=\"color: #c0c0c0; text-decoration-color: #c0c0c0; background-color: #000080\">│ /\\ \"-./  \\/\\ \\    /\\  ___\\/\\ \\    /\\  __ \\/\\  ___\\          Logger v0.0.3 🔏 │</span>\n",
       "<span style=\"color: #c0c0c0; text-decoration-color: #c0c0c0; background-color: #000080\">│ \\ \\ \\-./\\ \\ \\ \\___\\ \\  __\\  \\ \\___\\ \\ \\/\\ \\ \\ \\__ \\         </span><a href=\"https://twitter.com/RobertTLange\"><span style=\"color: #c0c0c0; text-decoration-color: #c0c0c0; background-color: #000080\">@RobertTLange</span></a><span style=\"color: #c0c0c0; text-decoration-color: #c0c0c0; background-color: #000080\"> 🐦 │</span>\n",
       "<span style=\"color: #c0c0c0; text-decoration-color: #c0c0c0; background-color: #000080\">│  \\ \\_\\ \\ \\_\\ \\_____\\ \\_____\\ \\_____\\ \\_____\\ \\_____\\         </span><a href=\"https://github.com/RobertTLange/mle-logging/blob/main/examples/getting_started.ipynb\"><span style=\"color: #c0c0c0; text-decoration-color: #c0c0c0; background-color: #000080\">MLE-Log Docs</span></a><span style=\"color: #c0c0c0; text-decoration-color: #c0c0c0; background-color: #000080\"> </span><span style=\"color: #c0c0c0; text-decoration-color: #c0c0c0; background-color: #000080\">📓</span><span style=\"color: #c0c0c0; text-decoration-color: #c0c0c0; background-color: #000080\"> │</span>\n",
       "<span style=\"color: #c0c0c0; text-decoration-color: #c0c0c0; background-color: #000080\">│   \\/_/  \\/_/\\/_____/\\/_____/\\/_____/\\/_____/\\/_____/         </span><a href=\"https://github.com/RobertTLange/mle-logging/\"><span style=\"color: #c0c0c0; text-decoration-color: #c0c0c0; background-color: #000080\">MLE-Log Repo</span></a><span style=\"color: #c0c0c0; text-decoration-color: #c0c0c0; background-color: #000080\"> </span><span style=\"color: #c0c0c0; text-decoration-color: #c0c0c0; background-color: #000080\">📝</span><span style=\"color: #c0c0c0; text-decoration-color: #c0c0c0; background-color: #000080\"> │</span>\n",
       "<span style=\"color: #c0c0c0; text-decoration-color: #c0c0c0; background-color: #000080\">╰──────────────────────────────────────────────────────────────────────────────╯</span>\n",
       "</pre>\n"
      ],
      "text/plain": [
       "<rich.jupyter.JupyterRenderable at 0x7f9f746d7f70>"
      ]
     },
     "metadata": {},
     "output_type": "display_data"
    },
    {
     "data": {
      "text/html": [
       "<pre style=\"white-space:pre;overflow-x:auto;line-height:normal;font-family:Menlo,'DejaVu Sans Mono',consolas,'Courier New',monospace\">╭──────────────────────────────────────────────────────────────────────────────╮\n",
       "│ ╭─────────────────────────────────╮╭───────────────────────────────────────╮ │\n",
       "│ │ <span style=\"font-weight: bold\">📖 Log Dir</span>: experiments/        ││ <span style=\"font-weight: bold\">📄 Config</span>: config-not-provided        │ │\n",
       "│ ╰─────────────────────────────────╯╰───────────────────────────────────────╯ │\n",
       "│ ╭─────────────────────────────────╮╭───────────────────────────────────────╮ │\n",
       "│ │ <span style=\"font-weight: bold\">⌚ Time</span>: num_updates            ││ <span style=\"font-weight: bold\">📉 Stats</span>: loss                        │ │\n",
       "│ ╰─────────────────────────────────╯╰───────────────────────────────────────╯ │\n",
       "│ ╭─────────────────────────────────╮╭───────────────────────────────────────╮ │\n",
       "│ │ <span style=\"font-weight: bold\">🌱 Seed ID</span>: 0                   ││ <span style=\"font-weight: bold\">🚀 Model</span>: no-model-type               │ │\n",
       "│ ╰─────────────────────────────────╯╰───────────────────────────────────────╯ │\n",
       "╰──────────────────────────────────────────────────────────────────────────────╯\n",
       "</pre>\n"
      ],
      "text/plain": [
       "<rich.jupyter.JupyterRenderable at 0x7f9f4009c640>"
      ]
     },
     "metadata": {},
     "output_type": "display_data"
    },
    {
     "name": "stdout",
     "output_type": "stream",
     "text": [
      "['time', 'num_updates', 'time_elapsed']\n",
      "['loss']\n",
      "['loss', 'meta_loss', 'ep_return']\n"
     ]
    },
    {
     "data": {
      "text/html": [
       "<pre style=\"white-space:pre;overflow-x:auto;line-height:normal;font-family:Menlo,'DejaVu Sans Mono',consolas,'Courier New',monospace\"><span style=\"color: #c0c0c0; text-decoration-color: #c0c0c0\">                                                                                </span>\n",
       "<span style=\"color: #c0c0c0; text-decoration-color: #c0c0c0\"> </span><span style=\"font-weight: bold\"> ⌚ </span><span style=\"color: #800000; text-decoration-color: #800000; font-weight: bold\">time</span><span style=\"font-weight: bold\">        </span><span style=\"color: #c0c0c0; text-decoration-color: #c0c0c0\"> </span><span style=\"font-weight: bold\"> </span><span style=\"color: #800000; text-decoration-color: #800000; font-weight: bold\">num_updates</span><span style=\"font-weight: bold\">  </span><span style=\"color: #c0c0c0; text-decoration-color: #c0c0c0\"> </span><span style=\"font-weight: bold\">    📉 </span><span style=\"color: #000080; text-decoration-color: #000080; font-weight: bold\">loss</span><span style=\"font-weight: bold\">     </span><span style=\"color: #c0c0c0; text-decoration-color: #c0c0c0\"> </span><span style=\"font-weight: bold\">  </span><span style=\"color: #000080; text-decoration-color: #000080; font-weight: bold\">meta_loss</span><span style=\"font-weight: bold\">   </span><span style=\"color: #c0c0c0; text-decoration-color: #c0c0c0\"> </span><span style=\"font-weight: bold\">  </span><span style=\"color: #000080; text-decoration-color: #000080; font-weight: bold\">ep_return</span><span style=\"font-weight: bold\">   </span><span style=\"color: #c0c0c0; text-decoration-color: #c0c0c0\"> </span>\n",
       "<span style=\"color: #c0c0c0; text-decoration-color: #c0c0c0\"> ────────────────────────────────────────────────────────────────────────────── </span>\n",
       "<span style=\"color: #c0c0c0; text-decoration-color: #c0c0c0\"> </span><span style=\"color: #800000; text-decoration-color: #800000\"> 21-09-18/13:55 </span><span style=\"color: #c0c0c0; text-decoration-color: #c0c0c0\"> </span><span style=\"color: #800000; text-decoration-color: #800000\">      10      </span><span style=\"color: #c0c0c0; text-decoration-color: #c0c0c0\"> </span>      0.1       <span style=\"color: #c0c0c0; text-decoration-color: #c0c0c0\"> </span>    0.234     <span style=\"color: #c0c0c0; text-decoration-color: #c0c0c0\"> </span>     10.0     <span style=\"color: #c0c0c0; text-decoration-color: #c0c0c0\"> </span>\n",
       "<span style=\"color: #c0c0c0; text-decoration-color: #c0c0c0\">                                                                                </span>\n",
       "</pre>\n"
      ],
      "text/plain": [
       "<rich.jupyter.JupyterRenderable at 0x7f9f74745e50>"
      ]
     },
     "metadata": {},
     "output_type": "display_data"
    }
   ],
   "source": [
    "@experiment(\"configs/abc.json\", log_config={\"verbose\": True})\n",
    "def run(mle, a):\n",
    "    print(mle.log.stats_log.time_to_track)\n",
    "    print(mle.log.stats_log.what_to_track)\n",
    "    mle.log.extend_tracking([\"meta_loss\", \"ep_return\"])\n",
    "    print(mle.log.stats_log.what_to_track)\n",
    "    mle.log.update({\"num_updates\": 10},\n",
    "                   {\"loss\": 0.1, \"meta_loss\": 0.234, \"ep_return\": 10})\n",
    "run(a=2)"
   ]
  },
  {
   "cell_type": "markdown",
   "id": "e32635c8-d702-45a5-a121-984722e7d5e9",
   "metadata": {},
   "source": [
    "# Combining Multiple Experiment Results"
   ]
  },
  {
   "cell_type": "code",
   "execution_count": 1,
   "id": "a6551ed6-8a2b-470a-9610-44cc2d2ef5cb",
   "metadata": {},
   "outputs": [],
   "source": [
    "from mle_toolbox import combine_experiments"
   ]
  },
  {
   "cell_type": "code",
   "execution_count": 31,
   "id": "87026c39-1091-49a6-b9d7-62eba8964753",
   "metadata": {},
   "outputs": [],
   "source": [
    "experiment_dirs = [\"../tests/unit/fixtures/experiment_1\",\n",
    "                   \"../tests/unit/fixtures/experiment_2\"]\n",
    "meta, hyper = combine_experiments(experiment_dirs, aggregate_seeds=False)"
   ]
  },
  {
   "cell_type": "code",
   "execution_count": 33,
   "id": "f31fea30-6d35-495d-a6ca-441e2892701b",
   "metadata": {},
   "outputs": [
    {
     "data": {
      "text/plain": [
       "odict_keys(['experiment_1', 'experiment_2'])"
      ]
     },
     "execution_count": 33,
     "metadata": {},
     "output_type": "execute_result"
    }
   ],
   "source": [
    "meta.keys()\n",
    "#meta.experiment_1.b_1_eval_0.seed_2"
   ]
  },
  {
   "cell_type": "code",
   "execution_count": 26,
   "id": "25beb2d5-dfa2-4d84-ab79-b736bc0142d7",
   "metadata": {},
   "outputs": [
    {
     "data": {
      "text/plain": [
       "DotMap(meta=DotMap(config_dict={'train_config': {'x_0': 1.0, 'noise_mean': 0.0, 'noise_std': 0.1, 't_max': 100, 'dt': 0.1}, 'log_config': {'time_to_track': ['step_counter'], 'what_to_track': ['integral', 'noise'], 'verbose': True, 'print_every_k_updates': 5, 'log_every_j_steps': 100, 'overwrite': 1}}, config_fname='experiments/pde/grid/21-09-13_b_1_eval_0/21-09-13_b_1_eval_0.json', eval_id='_b_1_eval_0', experiment_dir='experiments/pde/grid/21-09-13_b_1_eval_0/', fig_storage_paths='experiments/pde/grid/21-09-13_b_1_eval_0/figures/fig_1_seed_2.png', log_paths='experiments/pde/grid/21-09-13_b_1_eval_0/logs/log_seed_2.hdf5', model_type='no-model-type'), stats=DotMap(integral=array([0.8085457 , 0.83365476, 0.60176986, 0.7833985 , 0.5574112 ,\n",
       "       0.32456774, 0.28462926, 0.13499953, 0.16833599, 0.09837009],\n",
       "      dtype=float32), noise=array([ 1.1615214 , -0.42652246, -1.0992973 , -0.40010604, -1.1074387 ,\n",
       "       -2.5154395 ,  0.5053649 , -1.6775653 , -0.7961814 , -0.75851154],\n",
       "      dtype=float32)), time=DotMap(step_counter=array([ 100.,  200.,  300.,  400.,  500.,  600.,  700.,  800.,  900.,\n",
       "       1000.], dtype=float32), time=array([b'21-09-13/09:18', b'21-09-13/09:18', b'21-09-13/09:18',\n",
       "       b'21-09-13/09:18', b'21-09-13/09:18', b'21-09-13/09:18',\n",
       "       b'21-09-13/09:18', b'21-09-13/09:18', b'21-09-13/09:18',\n",
       "       b'21-09-13/09:18'], dtype='|S5000'), time_elapsed=array([0.01685309, 0.07123613, 0.08248496, 0.09183216, 0.10431623,\n",
       "       0.12392712, 0.13633919, 0.20310807, 0.21545815, 0.23046112],\n",
       "      dtype=float32)))"
      ]
     },
     "execution_count": 26,
     "metadata": {},
     "output_type": "execute_result"
    }
   ],
   "source": [
    "meta.experiment_2.b_1_eval_0.seed_2"
   ]
  },
  {
   "cell_type": "code",
   "execution_count": 27,
   "id": "5e6aed41-bcc6-4939-b403-1756e263648f",
   "metadata": {},
   "outputs": [
    {
     "data": {
      "image/png": "[encoded data removed]",
      "text/plain": [
       "<Figure size 720x576 with 2 Axes>"
      ]
     },
     "metadata": {},
     "output_type": "display_data"
    }
   ],
   "source": [
    "hyper.experiment_1.plot_2D_heat([\"x_0\", \"noise_mean\"], \"integral\")"
   ]
  },
  {
   "cell_type": "code",
   "execution_count": null,
   "id": "6fa7e1c3-a557-4c0f-8022-2be2101a7c94",
   "metadata": {},
   "outputs": [],
   "source": []
  }
 ],
 "metadata": {
  "kernelspec": {
   "display_name": "Python3 (mle-toolbox)",
   "language": "python",
   "name": "mle-toolbox"
  },
  "language_info": {
   "codemirror_mode": {
    "name": "ipython",
    "version": 3
   },
   "file_extension": ".py",
   "mimetype": "text/x-python",
   "name": "python",
   "nbconvert_exporter": "python",
   "pygments_lexer": "ipython3",
   "version": "3.9.6"
  }
 },
 "nbformat": 4,
 "nbformat_minor": 5
}
