{
 "cells": [
  {
   "cell_type": "markdown",
   "id": "7b86ab55-eb8d-4f0d-bfb0-f5e6c1cd89b7",
   "metadata": {},
   "source": [
    "# `mle-toolbox`: A Lightweight Logger for ML Experiments 📖\n",
    "### Author: [@RobertTLange](https://twitter.com/RobertTLange) [Last Update: December 2021] [![Colab](https://colab.research.google.com/assets/colab-badge.svg)](https://colab.research.google.com/github/mle-infrastructure/mle-toolbox/blob/main/examples/getting_started.ipynb)\n",
    "\n",
    "<img src=\"https://github.com/mle-infrastructure/mle-tutorial/blob/main/docs/mle_toolbox_structure.png?raw=true\" alt=\"drawing\" width=\"900\"/>\n",
    "\n",
    "Let's now walk through the individual API utilities, how to run, monitor & post-process an experiment:"
   ]
  },
  {
   "cell_type": "code",
   "execution_count": null,
   "id": "b4bdc020-7ae9-4ba0-8154-c442f686df9a",
   "metadata": {},
   "outputs": [],
   "source": [
    "try:\n",
    "    import mle_toolbox\n",
    "except:\n",
    "    !pip install -q mle-toolbox"
   ]
  },
  {
   "cell_type": "code",
   "execution_count": null,
   "id": "2630b803-1e64-4f91-aea7-5c4a2764e7dd",
   "metadata": {},
   "outputs": [],
   "source": [
    "!mle run configs/grid_search.yaml --purpose Grid Search"
   ]
  },
  {
   "cell_type": "code",
   "execution_count": null,
   "id": "869d6be2-9050-49fd-a083-1e6ab4658f24",
   "metadata": {},
   "outputs": [],
   "source": [
    "from mle_toolbox import load_result_logs\n",
    "\n",
    "meta_log, hyper_log = load_result_logs(\"experiments/search_grid\")"
   ]
  },
  {
   "cell_type": "code",
   "execution_count": null,
   "id": "8e6503a3-d2f5-4751-a16b-c63eb7d040e5",
   "metadata": {},
   "outputs": [],
   "source": [
    "hyper_log.plot_1D_bar(\"batch_size\", \"test_loss\",\n",
    "                      fixed_params={\"lrate\": 0.1})"
   ]
  }
 ],
 "metadata": {
  "kernelspec": {
   "display_name": "Python3 (mle-toolbox)",
   "language": "python",
   "name": "mle-toolbox"
  },
  "language_info": {
   "codemirror_mode": {
    "name": "ipython",
    "version": 3
   },
   "file_extension": ".py",
   "mimetype": "text/x-python",
   "name": "python",
   "nbconvert_exporter": "python",
   "pygments_lexer": "ipython3",
   "version": "3.9.6"
  }
 },
 "nbformat": 4,
 "nbformat_minor": 5
}
