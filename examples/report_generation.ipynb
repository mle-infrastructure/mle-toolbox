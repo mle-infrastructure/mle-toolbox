{
 "cells": [
  {
   "cell_type": "code",
   "execution_count": 1,
   "metadata": {},
   "outputs": [],
   "source": [
    "%matplotlib inline\n",
    "%load_ext autoreload\n",
    "%autoreload 2\n",
    "%config InlineBackend.figure_format = 'retina'"
   ]
  },
  {
   "cell_type": "code",
   "execution_count": 2,
   "metadata": {},
   "outputs": [],
   "source": [
    "from mle_toolbox.report import generate_report, MarkdownGenerator\n",
    "from mle_toolbox.protocol import load_local_protocol_db\n",
    "\n",
    "import markdown2\n",
    "import pdfkit"
   ]
  },
  {
   "cell_type": "code",
   "execution_count": 3,
   "metadata": {},
   "outputs": [
    {
     "data": {
      "text/plain": [
       "{'purpose': 'Report Data Generation',\n",
       " 'project_name': 'examples',\n",
       " 'exec_resource': 'Roberts-MacBook-Pro-2.fritz.box',\n",
       " 'git_hash': '01a16f1371e008da905ecb6c31d0d2a82a5189be',\n",
       " 'git_remote': 'no-git-remote',\n",
       " 'exp_retrieval_path': '/Users/rtl/Dropbox/core-code/mle-toolbox/examples/experiments/',\n",
       " 'meta_job_args': {'project_name': 'examples',\n",
       "  'job_type': 'hyperparameter-search',\n",
       "  'base_train_fname': 'ode/run_ode_int.py',\n",
       "  'base_train_config': 'ode/ode_int_config_1.json',\n",
       "  'experiment_dir': 'experiments/',\n",
       "  'remote_exec_dir': 'mle-toolbox/examples/',\n",
       "  'debug_mode': False},\n",
       " 'single_job_args': {'job_name': 'ode',\n",
       "  'num_gpus': 0,\n",
       "  'num_logical_cores': 2,\n",
       "  'log_file': 'log',\n",
       "  'err_file': 'err',\n",
       "  'env_name': 'mle-toolbox'},\n",
       " 'job_spec_args': {'search_type': 'grid',\n",
       "  'hyperlog_fname': 'hyper_log.pkl',\n",
       "  'reload_log': False,\n",
       "  'verbose_logging': True,\n",
       "  'maximize_objective': True,\n",
       "  'problem_type': 'final',\n",
       "  'eval_metrics': ['integral', 'noise'],\n",
       "  'num_search_batches': 2,\n",
       "  'num_iter_per_batch': 5,\n",
       "  'num_evals_per_iter': 2,\n",
       "  'params_to_search': {'real': {'x_0': {'begin': 1, 'end': 10, 'bins': 3},\n",
       "    'noise_mean': {'begin': 0, 'end': 0.01, 'bins': 3}}}},\n",
       " 'train_config': {'x_0': 100,\n",
       "  'noise_mean': 0,\n",
       "  'noise_std': 0.1,\n",
       "  't_max': 1000,\n",
       "  'dt': 0.1,\n",
       "  'log_every_steps': 1000},\n",
       " 'net_config': {},\n",
       " 'log_config': {'time_to_track': ['step_counter'],\n",
       "  'what_to_track': ['integral', 'noise'],\n",
       "  'tboard_fname': 'ode_fun',\n",
       "  'time_to_print': ['step_counter'],\n",
       "  'what_to_print': ['integral'],\n",
       "  'print_every_k_updates': 10,\n",
       "  'overwrite_experiment_dir': 0},\n",
       " 'num_seeds': 2,\n",
       " 'e-hash': '5bad0dba656002d47265a733ce8bf038',\n",
       " 'retrieved_results': False,\n",
       " 'stored_in_gcloud': False,\n",
       " 'job_status': 'completed',\n",
       " 'start_time': '02/13/2021 18:06:37',\n",
       " 'stop_time': '02/13/2021 18:07:10'}"
      ]
     },
     "execution_count": 3,
     "metadata": {},
     "output_type": "execute_result"
    }
   ],
   "source": [
    "db, all_experiment_ids, last_experiment_id = load_local_protocol_db()\n",
    "e_id = all_experiment_ids[-1]\n",
    "report_data = db.get(e_id)\n",
    "report_data"
   ]
  },
  {
   "cell_type": "code",
   "execution_count": 5,
   "metadata": {},
   "outputs": [],
   "source": [
    "with MarkdownGenerator(\n",
    "    filename = str(e_id) + \".md\", enable_write=False\n",
    ") as doc:\n",
    "    doc.addHeader(1, \"Experiment Protocol: \" + report_data[\"project_name\"] + \" - \" + e_id)\n",
    "\n",
    "    # Meta-Data of the Experiment\n",
    "    doc.addHeader(2, \"Experiment Meta-Data.\")\n",
    "    doc.writeTextLine(f'{doc.addBoldedText(\"Purpose:\")} ' + report_data[\"purpose\"])\n",
    "\n",
    "    # Hyperparameters used in the Experiment\n",
    "    doc.addHeader(2, \"Hyperparameters.\")\n",
    "    table = [\n",
    "        {\"Parameter\": \"col1row1\", \"Value\": \"col2row1\"},\n",
    "        {\"Parameter\": \"col1row2\", \"Value\": \"col2row2\"}\n",
    "    ]\n",
    "    doc.addTable(dictionary_list=table)\n",
    "\n",
    "    # Generated header for figures of the Experiment\n",
    "    doc.addHeader(2, \"Generated Figures.\")\n",
    "    doc.writeTextLine('<img src=\"/Users/rtl/Desktop/django_db_overview.png\" width=\"30%\" style=\"margin-right:20px\">')\n"
   ]
  },
  {
   "cell_type": "code",
   "execution_count": 6,
   "metadata": {},
   "outputs": [],
   "source": [
    "# Convert the .md into a renderable HTML file\n",
    "text = open(e_id + \".md\").read()\n",
    "with open(e_id + \".html\", 'w') as output_file:\n",
    "    html_text = markdown2.markdown(text, extras=[\"tables\"])\n",
    "    #html_text += '<img src=\"/Users/rtl/Desktop/django_db_overview.png\" width=\"30%\" style=\"margin-right:20px\">'\n",
    "    #html_text += '<img src=\"/Users/rtl/Desktop/django_db_overview.png\" width=\"30%\" style=\"margin-right:20px\">'\n",
    "    #html_text += '<img src=\"/Users/rtl/Desktop/django_db_overview.png\" width=\"30%\" style=\"margin-right:20px\">'\n",
    "    output_file.write(html_text)"
   ]
  },
  {
   "cell_type": "code",
   "execution_count": 7,
   "metadata": {},
   "outputs": [
    {
     "name": "stdout",
     "output_type": "stream",
     "text": [
      "Loading pages (1/6)\n",
      "Counting pages (2/6)                                               \n",
      "Resolving links (4/6)                                                       \n",
      "Loading headers and footers (5/6)                                           \n",
      "Printing pages (6/6)\n",
      "Done                                                                      \n"
     ]
    },
    {
     "data": {
      "text/plain": [
       "True"
      ]
     },
     "execution_count": 7,
     "metadata": {},
     "output_type": "execute_result"
    }
   ],
   "source": [
    "# Generate a pdf file for the report\n",
    "output_filename = e_id + '.pdf'\n",
    "pdfkit.from_string(html_text, output_filename,\n",
    "                   options={\"enable-local-file-access\": None,\n",
    "                            'page-size': 'A4',\n",
    "                            'dpi': 400,\n",
    "                            'print-media-type': '',\n",
    "                            'disable-smart-shrinking': ''})"
   ]
  },
  {
   "cell_type": "code",
   "execution_count": null,
   "metadata": {},
   "outputs": [],
   "source": []
  }
 ],
 "metadata": {
  "kernelspec": {
   "display_name": "Python3 (ma-vision)",
   "language": "python",
   "name": "ma-vision"
  },
  "language_info": {
   "codemirror_mode": {
    "name": "ipython",
    "version": 3
   },
   "file_extension": ".py",
   "mimetype": "text/x-python",
   "name": "python",
   "nbconvert_exporter": "python",
   "pygments_lexer": "ipython3",
   "version": "3.6.9"
  }
 },
 "nbformat": 4,
 "nbformat_minor": 4
}
