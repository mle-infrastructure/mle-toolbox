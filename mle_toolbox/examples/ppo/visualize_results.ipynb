{
 "cells": [
  {
   "cell_type": "code",
   "execution_count": 37,
   "metadata": {},
   "outputs": [
    {
     "name": "stdout",
     "output_type": "stream",
     "text": [
      "The autoreload extension is already loaded. To reload it, use:\n",
      "  %reload_ext autoreload\n"
     ]
    }
   ],
   "source": [
    "%matplotlib inline\n",
    "%load_ext autoreload\n",
    "%autoreload 2\n",
    "\n",
    "import os\n",
    "experiment_dir = \"experiments/\""
   ]
  },
  {
   "cell_type": "code",
   "execution_count": 38,
   "metadata": {},
   "outputs": [],
   "source": [
    "from drl_toolbox.utils import load_log\n",
    "# Loads in all logs - hyperconfig x random seeds\n",
    "logs = load_log(experiment_dir + \"meta_log.hdf5\", mean_over_seeds=True)"
   ]
  },
  {
   "cell_type": "code",
   "execution_count": 39,
   "metadata": {},
   "outputs": [
    {
     "data": {
      "text/plain": [
       "dict_keys(['b_2_eval_3', 'b_1_eval_3', 'b_1_eval_0', 'b_1_eval_4', 'b_2_eval_4', 'b_2_eval_0', 'b_1_eval_1', 'b_2_eval_1', 'b_2_eval_2', 'b_1_eval_2'])"
      ]
     },
     "execution_count": 39,
     "metadata": {},
     "output_type": "execute_result"
    }
   ],
   "source": [
    "logs.keys()"
   ]
  },
  {
   "cell_type": "code",
   "execution_count": 40,
   "metadata": {},
   "outputs": [
    {
     "data": {
      "text/plain": [
       "{'optim_counter': {'mean': array([ 10.,  20.,  30.,  40.,  50.,  60.,  70.,  80.,  90., 100., 110.,\n",
       "         120., 130.], dtype=float32),\n",
       "  'std': array([0., 0., 0., 0., 0., 0., 0., 0., 0., 0., 0., 0., 0.], dtype=float32)},\n",
       " 'rew_10th_p': {'mean': array([-1574.9196, -1621.9932, -1588.4764, -1649.1866, -1527.4624,\n",
       "         -1480.1162, -1666.1506, -1641.9878, -1550.4692, -1605.0905,\n",
       "         -1655.9991, -1606.4321, -1660.9827], dtype=float32),\n",
       "  'std': array([120.908325 ,  49.645264 ,  20.916748 ,  70.88684  , 204.35016  ,\n",
       "         100.21863  ,   7.5322876,  18.729065 , 161.53302  ,  94.27551  ,\n",
       "          26.67212  ,  37.61261  ,  22.123047 ], dtype=float32)},\n",
       " 'rew_90th_p': {'mean': array([-1139.4314, -1147.7314, -1197.9684, -1128.7057, -1187.872 ,\n",
       "         -1139.3877, -1119.6589, -1141.1405, -1133.7554, -1177.4722,\n",
       "         -1192.302 , -1225.9421, -1213.5872], dtype=float32),\n",
       "  'std': array([178.40979, 264.09335, 185.86499, 230.21371, 166.4285 , 123.23566,\n",
       "         155.79578, 140.6654 , 230.93536, 181.98544, 268.36542, 162.2951 ,\n",
       "         174.95087], dtype=float32)},\n",
       " 'rew_mean': {'mean': array([-1367.6162, -1375.5648, -1389.1514, -1369.1118, -1357.207 ,\n",
       "         -1328.4016, -1405.4648, -1387.842 , -1337.9993, -1336.7585,\n",
       "         -1383.6191, -1435.7417, -1436.7585], dtype=float32),\n",
       "  'std': array([149.54633 , 185.26196 ,  95.660034, 103.00867 , 198.36523 ,\n",
       "         116.37457 ,  88.36371 ,  73.37323 , 195.05505 , 165.74432 ,\n",
       "         199.18976 ,  78.29285 ,  86.21686 ], dtype=float32)},\n",
       " 'rew_median': {'mean': array([-1356.9785, -1338.6072, -1354.3274, -1365.6401, -1369.3113,\n",
       "         -1353.1938, -1389.606 , -1377.0059, -1275.6123, -1272.512 ,\n",
       "         -1335.036 , -1437.1287, -1432.729 ], dtype=float32),\n",
       "  'std': array([133.06342 , 233.51862 , 116.01642 , 135.64172 , 202.3092  ,\n",
       "         100.44098 , 151.64154 ,  85.50519 , 233.62738 , 188.30963 ,\n",
       "         268.79736 ,  53.556335,  55.410767], dtype=float32)},\n",
       " 'rew_sd': {'mean': array([186.70639, 188.58049, 173.1337 , 193.4585 , 159.11868, 174.64346,\n",
       "         218.58087, 207.3039 , 192.92072, 177.29573, 215.38515, 177.4057 ,\n",
       "         193.61803], dtype=float32),\n",
       "  'std': array([24.654778, 84.26168 , 66.12316 , 98.292145, 16.51963 , 45.69655 ,\n",
       "         61.44335 , 68.26264 , 59.42462 , 29.425766, 76.695724, 50.166916,\n",
       "         70.18239 ], dtype=float32)},\n",
       " 'step_counter': {'mean': array([0., 0., 0., 0., 0., 0., 0., 0., 0., 0., 0., 0., 1.], dtype=float32),\n",
       "  'std': array([0., 0., 0., 0., 0., 0., 0., 0., 0., 0., 0., 0., 0.], dtype=float32)},\n",
       " 'steps_10th_p': {'mean': array([0., 0., 0., 0., 0., 0., 0., 0., 0., 0., 0., 0., 0.], dtype=float32),\n",
       "  'std': array([0., 0., 0., 0., 0., 0., 0., 0., 0., 0., 0., 0., 0.], dtype=float32)},\n",
       " 'steps_90th_p': {'mean': array([0., 0., 0., 0., 0., 0., 0., 0., 0., 0., 0., 0., 0.], dtype=float32),\n",
       "  'std': array([0., 0., 0., 0., 0., 0., 0., 0., 0., 0., 0., 0., 0.], dtype=float32)},\n",
       " 'steps_mean': {'mean': array([0., 0., 0., 0., 0., 0., 0., 0., 0., 0., 0., 0., 0.], dtype=float32),\n",
       "  'std': array([0., 0., 0., 0., 0., 0., 0., 0., 0., 0., 0., 0., 0.], dtype=float32)},\n",
       " 'steps_median': {'mean': array([0., 0., 0., 0., 0., 0., 0., 0., 0., 0., 0., 0., 0.], dtype=float32),\n",
       "  'std': array([0., 0., 0., 0., 0., 0., 0., 0., 0., 0., 0., 0., 0.], dtype=float32)},\n",
       " 'steps_sd': {'mean': array([0., 0., 0., 0., 0., 0., 0., 0., 0., 0., 0., 0., 0.], dtype=float32),\n",
       "  'std': array([0., 0., 0., 0., 0., 0., 0., 0., 0., 0., 0., 0., 0.], dtype=float32)},\n",
       " 'success_rate': {'mean': array([0., 0., 0., 0., 0., 0., 0., 0., 0., 0., 0., 0., 0.], dtype=float32),\n",
       "  'std': array([0., 0., 0., 0., 0., 0., 0., 0., 0., 0., 0., 0., 0.], dtype=float32)},\n",
       " 't_since_last_opt': {'mean': array([1.5541319, 1.5794852, 1.5643545, 1.6090748, 1.581296 , 1.5640366,\n",
       "         1.5497011, 1.5695022, 1.5760103, 1.5518906, 1.5671728, 1.5653768,\n",
       "         2.1164455], dtype=float32),\n",
       "  'std': array([0.15652955, 0.18348551, 0.18399179, 0.16153407, 0.13458729,\n",
       "         0.15038157, 0.144395  , 0.1656152 , 0.17043984, 0.1375041 ,\n",
       "         0.12241197, 0.1858952 , 0.1165849 ], dtype=float32)},\n",
       " 'time_elapsed': {'mean': array([ 1.6632652,  3.2427797,  4.8071456,  6.416232 ,  7.997694 ,\n",
       "          9.561688 , 11.111548 , 12.681108 , 14.257128 , 15.809032 ,\n",
       "         17.376238 , 18.941635 , 21.058104 ], dtype=float32),\n",
       "  'std': array([0.14469814, 0.32819474, 0.5121856 , 0.67365265, 0.80813026,\n",
       "         0.95867825, 1.102891  , 1.2685447 , 1.4391026 , 1.576467  ,\n",
       "         1.6989055 , 1.884738  , 2.001442  ], dtype=float32)}}"
      ]
     },
     "execution_count": 40,
     "metadata": {},
     "output_type": "execute_result"
    }
   ],
   "source": [
    "logs['b_2_eval_3']"
   ]
  },
  {
   "cell_type": "code",
   "execution_count": null,
   "metadata": {},
   "outputs": [],
   "source": []
  }
 ],
 "metadata": {
  "kernelspec": {
   "display_name": "Python3 (ma-vision)",
   "language": "python",
   "name": "ma-vision"
  },
  "language_info": {
   "codemirror_mode": {
    "name": "ipython",
    "version": 3
   },
   "file_extension": ".py",
   "mimetype": "text/x-python",
   "name": "python",
   "nbconvert_exporter": "python",
   "pygments_lexer": "ipython3",
   "version": "3.6.9"
  }
 },
 "nbformat": 4,
 "nbformat_minor": 4
}
